{
  "cells": [
    {
      "cell_type": "markdown",
      "metadata": {
        "id": "BeB10ZMav-SW"
      },
      "source": [
        "#Importing Dataset"
      ]
    },
    {
      "cell_type": "markdown",
      "metadata": {
        "id": "5vUbBvinu8zW"
      },
      "source": [
        "#Importing libraries"
      ]
    },
    {
      "cell_type": "code",
      "execution_count": 1,
      "metadata": {
        "id": "4JsejDm3uxTS"
      },
      "outputs": [
        {
          "name": "stdout",
          "output_type": "stream",
          "text": [
            "WARNING:tensorflow:From c:\\Users\\ozyur\\anaconda3\\Lib\\site-packages\\keras\\src\\losses.py:2976: The name tf.losses.sparse_softmax_cross_entropy is deprecated. Please use tf.compat.v1.losses.sparse_softmax_cross_entropy instead.\n",
            "\n"
          ]
        }
      ],
      "source": [
        "import tensorflow as tf\n",
        "import matplotlib.pyplot as plt"
      ]
    },
    {
      "cell_type": "markdown",
      "metadata": {
        "id": "i2w52yYrvTu9"
      },
      "source": [
        "#Data Preprocessing"
      ]
    },
    {
      "cell_type": "markdown",
      "metadata": {
        "id": "vU3NlcKCwlIZ"
      },
      "source": [
        "##Training Image preprocessing"
      ]
    },
    {
      "cell_type": "code",
      "execution_count": 2,
      "metadata": {
        "colab": {
          "base_uri": "https://localhost:8080/"
        },
        "id": "Kjoa0oUHvQAv",
        "outputId": "35053f0d-5fd0-4b98-cd8f-fa0a88a79e8f"
      },
      "outputs": [
        {
          "name": "stdout",
          "output_type": "stream",
          "text": [
            "Found 3115 files belonging to 36 classes.\n"
          ]
        }
      ],
      "source": [
        "training_set = tf.keras.utils.image_dataset_from_directory(\n",
        "    'C:\\\\Projelerim\\\\Meyve_Sebze_Tanima\\\\Meyve_sebze\\\\train',\n",
        "    labels=\"inferred\",\n",
        "    label_mode=\"categorical\",\n",
        "    class_names=None,\n",
        "    color_mode=\"rgb\",\n",
        "    batch_size=32,\n",
        "    image_size=(64, 64),\n",
        "    shuffle=True,\n",
        "    seed=None,\n",
        "    validation_split=None,\n",
        "    subset=None,\n",
        "    interpolation=\"bilinear\",\n",
        "    follow_links=False,\n",
        "    crop_to_aspect_ratio=False\n",
        ")"
      ]
    },
    {
      "cell_type": "markdown",
      "metadata": {
        "id": "nK9Ev76o0mdJ"
      },
      "source": [
        "##Validation Image Preprocessing"
      ]
    },
    {
      "cell_type": "code",
      "execution_count": 3,
      "metadata": {
        "colab": {
          "base_uri": "https://localhost:8080/"
        },
        "id": "Tocls4IowkNB",
        "outputId": "3b0d8b3d-8552-4e0f-c1f2-7c9f7e28a944"
      },
      "outputs": [
        {
          "name": "stdout",
          "output_type": "stream",
          "text": [
            "Found 351 files belonging to 36 classes.\n"
          ]
        }
      ],
      "source": [
        "validation_set = tf.keras.utils.image_dataset_from_directory(\n",
        "    'C:\\\\Projelerim\\\\Meyve_Sebze_Tanima\\\\Meyve_sebze\\\\validation',\n",
        "    labels=\"inferred\",\n",
        "    label_mode=\"categorical\",\n",
        "    class_names=None,\n",
        "    color_mode=\"rgb\",\n",
        "    batch_size=32,\n",
        "    image_size=(64, 64),\n",
        "    shuffle=True,\n",
        "    seed=None,\n",
        "    validation_split=None,\n",
        "    subset=None,\n",
        "    interpolation=\"bilinear\",\n",
        "    follow_links=False,\n",
        "    crop_to_aspect_ratio=False\n",
        ")"
      ]
    },
    {
      "cell_type": "markdown",
      "metadata": {
        "id": "OQ_TcbD7r2Cw"
      },
      "source": [
        "#Building Model"
      ]
    },
    {
      "cell_type": "code",
      "execution_count": 4,
      "metadata": {
        "id": "cUMiJrPvsBTU"
      },
      "outputs": [
        {
          "name": "stdout",
          "output_type": "stream",
          "text": [
            "WARNING:tensorflow:From c:\\Users\\ozyur\\anaconda3\\Lib\\site-packages\\keras\\src\\backend.py:873: The name tf.get_default_graph is deprecated. Please use tf.compat.v1.get_default_graph instead.\n",
            "\n"
          ]
        }
      ],
      "source": [
        "cnn = tf.keras.models.Sequential()"
      ]
    },
    {
      "cell_type": "markdown",
      "metadata": {
        "id": "mgFWYq7ssLkV"
      },
      "source": [
        "##Building Convolution Layer"
      ]
    },
    {
      "cell_type": "code",
      "execution_count": 5,
      "metadata": {
        "id": "LoaODWuZrHFg"
      },
      "outputs": [
        {
          "name": "stdout",
          "output_type": "stream",
          "text": [
            "WARNING:tensorflow:From c:\\Users\\ozyur\\anaconda3\\Lib\\site-packages\\keras\\src\\layers\\pooling\\max_pooling2d.py:161: The name tf.nn.max_pool is deprecated. Please use tf.nn.max_pool2d instead.\n",
            "\n"
          ]
        }
      ],
      "source": [
        "cnn.add(tf.keras.layers.Conv2D(filters=32,kernel_size=3,padding='same',activation='relu',input_shape=[64,64,3]))\n",
        "cnn.add(tf.keras.layers.Conv2D(filters=32,kernel_size=3,activation='relu'))\n",
        "cnn.add(tf.keras.layers.MaxPool2D(pool_size=2,strides=2))"
      ]
    },
    {
      "cell_type": "code",
      "execution_count": 6,
      "metadata": {
        "id": "b5-b7yo8mJHq"
      },
      "outputs": [],
      "source": [
        "cnn.add(tf.keras.layers.Dropout(0.25))"
      ]
    },
    {
      "cell_type": "code",
      "execution_count": 7,
      "metadata": {
        "id": "5-potKmKsOr2"
      },
      "outputs": [],
      "source": [
        "cnn.add(tf.keras.layers.Conv2D(filters=64,kernel_size=3,padding='same',activation='relu'))\n",
        "cnn.add(tf.keras.layers.Conv2D(filters=64,kernel_size=3,activation='relu'))\n",
        "cnn.add(tf.keras.layers.MaxPool2D(pool_size=2,strides=2))"
      ]
    },
    {
      "cell_type": "code",
      "execution_count": 8,
      "metadata": {
        "id": "0B29AmGWmZeV"
      },
      "outputs": [],
      "source": [
        "cnn.add(tf.keras.layers.Dropout(0.25))"
      ]
    },
    {
      "cell_type": "code",
      "execution_count": 9,
      "metadata": {
        "id": "NPZ2NGthuTv5"
      },
      "outputs": [],
      "source": [
        "cnn.add(tf.keras.layers.Flatten())"
      ]
    },
    {
      "cell_type": "code",
      "execution_count": 10,
      "metadata": {
        "id": "demjWjcWuc3q"
      },
      "outputs": [],
      "source": [
        "cnn.add(tf.keras.layers.Dense(units=512,activation='relu'))"
      ]
    },
    {
      "cell_type": "code",
      "execution_count": 11,
      "metadata": {
        "id": "_cD4jLBauZtk"
      },
      "outputs": [],
      "source": [
        "cnn.add(tf.keras.layers.Dense(units=256,activation='relu'))"
      ]
    },
    {
      "cell_type": "code",
      "execution_count": 12,
      "metadata": {
        "id": "2onuZO6YuBF3"
      },
      "outputs": [],
      "source": [
        "cnn.add(tf.keras.layers.Dropout(0.5)) #To avoid overfitting"
      ]
    },
    {
      "cell_type": "code",
      "execution_count": 13,
      "metadata": {
        "id": "toAqflkCuwoS"
      },
      "outputs": [],
      "source": [
        "#Output Layer\n",
        "cnn.add(tf.keras.layers.Dense(units=36,activation='softmax'))"
      ]
    },
    {
      "cell_type": "markdown",
      "metadata": {
        "id": "sYYdAFZDvt1P"
      },
      "source": [
        "#Compiling and Training Phase"
      ]
    },
    {
      "cell_type": "code",
      "execution_count": 14,
      "metadata": {
        "id": "yAcyiEfVvVzw"
      },
      "outputs": [
        {
          "name": "stdout",
          "output_type": "stream",
          "text": [
            "WARNING:tensorflow:From c:\\Users\\ozyur\\anaconda3\\Lib\\site-packages\\keras\\src\\optimizers\\__init__.py:309: The name tf.train.Optimizer is deprecated. Please use tf.compat.v1.train.Optimizer instead.\n",
            "\n"
          ]
        }
      ],
      "source": [
        "cnn.compile(optimizer='adam',loss='categorical_crossentropy',metrics=['accuracy'])"
      ]
    },
    {
      "cell_type": "code",
      "execution_count": 15,
      "metadata": {
        "colab": {
          "base_uri": "https://localhost:8080/"
        },
        "id": "X0MROJsdlC5Z",
        "outputId": "59099315-950c-4546-d62d-626f4ca3b80d"
      },
      "outputs": [
        {
          "name": "stdout",
          "output_type": "stream",
          "text": [
            "Model: \"sequential\"\n",
            "_________________________________________________________________\n",
            " Layer (type)                Output Shape              Param #   \n",
            "=================================================================\n",
            " conv2d (Conv2D)             (None, 64, 64, 32)        896       \n",
            "                                                                 \n",
            " conv2d_1 (Conv2D)           (None, 62, 62, 32)        9248      \n",
            "                                                                 \n",
            " max_pooling2d (MaxPooling2  (None, 31, 31, 32)        0         \n",
            " D)                                                              \n",
            "                                                                 \n",
            " dropout (Dropout)           (None, 31, 31, 32)        0         \n",
            "                                                                 \n",
            " conv2d_2 (Conv2D)           (None, 31, 31, 64)        18496     \n",
            "                                                                 \n",
            " conv2d_3 (Conv2D)           (None, 29, 29, 64)        36928     \n",
            "                                                                 \n",
            " max_pooling2d_1 (MaxPoolin  (None, 14, 14, 64)        0         \n",
            " g2D)                                                            \n",
            "                                                                 \n",
            " dropout_1 (Dropout)         (None, 14, 14, 64)        0         \n",
            "                                                                 \n",
            " flatten (Flatten)           (None, 12544)             0         \n",
            "                                                                 \n",
            " dense (Dense)               (None, 512)               6423040   \n",
            "                                                                 \n",
            " dense_1 (Dense)             (None, 256)               131328    \n",
            "                                                                 \n",
            " dropout_2 (Dropout)         (None, 256)               0         \n",
            "                                                                 \n",
            " dense_2 (Dense)             (None, 36)                9252      \n",
            "                                                                 \n",
            "=================================================================\n",
            "Total params: 6629188 (25.29 MB)\n",
            "Trainable params: 6629188 (25.29 MB)\n",
            "Non-trainable params: 0 (0.00 Byte)\n",
            "_________________________________________________________________\n"
          ]
        }
      ],
      "source": [
        "cnn.summary()"
      ]
    },
    {
      "cell_type": "code",
      "execution_count": 16,
      "metadata": {
        "colab": {
          "base_uri": "https://localhost:8080/"
        },
        "id": "K3W4dNUrvxIw",
        "outputId": "c4d220dc-40d6-438e-b940-751b3e85b037"
      },
      "outputs": [
        {
          "name": "stdout",
          "output_type": "stream",
          "text": [
            "Epoch 1/32\n",
            "WARNING:tensorflow:From c:\\Users\\ozyur\\anaconda3\\Lib\\site-packages\\keras\\src\\utils\\tf_utils.py:492: The name tf.ragged.RaggedTensorValue is deprecated. Please use tf.compat.v1.ragged.RaggedTensorValue instead.\n",
            "\n",
            "WARNING:tensorflow:From c:\\Users\\ozyur\\anaconda3\\Lib\\site-packages\\keras\\src\\engine\\base_layer_utils.py:384: The name tf.executing_eagerly_outside_functions is deprecated. Please use tf.compat.v1.executing_eagerly_outside_functions instead.\n",
            "\n",
            "98/98 [==============================] - 53s 495ms/step - loss: 7.5576 - accuracy: 0.0266 - val_loss: 3.5835 - val_accuracy: 0.0285\n",
            "Epoch 2/32\n",
            "98/98 [==============================] - 45s 440ms/step - loss: 3.5819 - accuracy: 0.0244 - val_loss: 3.5824 - val_accuracy: 0.0285\n",
            "Epoch 3/32\n",
            "98/98 [==============================] - 45s 439ms/step - loss: 3.5787 - accuracy: 0.0289 - val_loss: 3.5603 - val_accuracy: 0.0342\n",
            "Epoch 4/32\n",
            "98/98 [==============================] - 46s 450ms/step - loss: 3.5726 - accuracy: 0.0321 - val_loss: 3.5455 - val_accuracy: 0.0399\n",
            "Epoch 5/32\n",
            "98/98 [==============================] - 46s 457ms/step - loss: 3.5649 - accuracy: 0.0334 - val_loss: 3.5568 - val_accuracy: 0.0427\n",
            "Epoch 6/32\n",
            "98/98 [==============================] - 48s 476ms/step - loss: 3.5573 - accuracy: 0.0347 - val_loss: 3.5420 - val_accuracy: 0.0427\n",
            "Epoch 7/32\n",
            "98/98 [==============================] - 50s 493ms/step - loss: 3.5407 - accuracy: 0.0449 - val_loss: 3.5454 - val_accuracy: 0.0399\n",
            "Epoch 8/32\n",
            "98/98 [==============================] - 54s 537ms/step - loss: 3.5348 - accuracy: 0.0485 - val_loss: 3.4933 - val_accuracy: 0.0570\n",
            "Epoch 9/32\n",
            "98/98 [==============================] - 54s 530ms/step - loss: 3.5199 - accuracy: 0.0510 - val_loss: 3.5202 - val_accuracy: 0.0627\n",
            "Epoch 10/32\n",
            "98/98 [==============================] - 60s 584ms/step - loss: 3.4961 - accuracy: 0.0639 - val_loss: 3.4381 - val_accuracy: 0.0855\n",
            "Epoch 11/32\n",
            "98/98 [==============================] - 54s 533ms/step - loss: 3.4739 - accuracy: 0.0620 - val_loss: 3.4728 - val_accuracy: 0.0684\n",
            "Epoch 12/32\n",
            "98/98 [==============================] - 52s 512ms/step - loss: 3.4420 - accuracy: 0.0738 - val_loss: 3.4214 - val_accuracy: 0.0769\n",
            "Epoch 13/32\n",
            "98/98 [==============================] - 50s 497ms/step - loss: 3.4047 - accuracy: 0.0864 - val_loss: 3.3444 - val_accuracy: 0.1197\n",
            "Epoch 14/32\n",
            "98/98 [==============================] - 55s 542ms/step - loss: 3.3506 - accuracy: 0.1014 - val_loss: 3.2233 - val_accuracy: 0.1538\n",
            "Epoch 15/32\n",
            "98/98 [==============================] - 52s 511ms/step - loss: 3.3052 - accuracy: 0.1143 - val_loss: 3.0893 - val_accuracy: 0.2023\n",
            "Epoch 16/32\n",
            "98/98 [==============================] - 53s 527ms/step - loss: 3.2683 - accuracy: 0.1230 - val_loss: 2.9700 - val_accuracy: 0.2507\n",
            "Epoch 17/32\n",
            "98/98 [==============================] - 53s 522ms/step - loss: 3.1737 - accuracy: 0.1538 - val_loss: 2.8932 - val_accuracy: 0.2536\n",
            "Epoch 18/32\n",
            "98/98 [==============================] - 58s 569ms/step - loss: 3.1069 - accuracy: 0.1660 - val_loss: 2.7753 - val_accuracy: 0.2877\n",
            "Epoch 19/32\n",
            "98/98 [==============================] - 59s 574ms/step - loss: 3.0328 - accuracy: 0.1907 - val_loss: 2.7762 - val_accuracy: 0.2877\n",
            "Epoch 20/32\n",
            "98/98 [==============================] - 50s 494ms/step - loss: 2.9443 - accuracy: 0.1974 - val_loss: 2.5984 - val_accuracy: 0.3390\n",
            "Epoch 21/32\n",
            "98/98 [==============================] - 50s 496ms/step - loss: 2.8814 - accuracy: 0.2151 - val_loss: 2.4774 - val_accuracy: 0.3533\n",
            "Epoch 22/32\n",
            "98/98 [==============================] - 50s 496ms/step - loss: 2.7382 - accuracy: 0.2449 - val_loss: 2.2876 - val_accuracy: 0.4359\n",
            "Epoch 23/32\n",
            "98/98 [==============================] - 51s 506ms/step - loss: 2.5931 - accuracy: 0.2854 - val_loss: 2.1381 - val_accuracy: 0.4644\n",
            "Epoch 24/32\n",
            "98/98 [==============================] - 54s 536ms/step - loss: 2.5469 - accuracy: 0.2973 - val_loss: 2.0399 - val_accuracy: 0.5014\n",
            "Epoch 25/32\n",
            "98/98 [==============================] - 54s 535ms/step - loss: 2.4420 - accuracy: 0.3377 - val_loss: 1.9460 - val_accuracy: 0.5385\n",
            "Epoch 26/32\n",
            "98/98 [==============================] - 55s 542ms/step - loss: 2.2410 - accuracy: 0.3859 - val_loss: 1.8288 - val_accuracy: 0.5385\n",
            "Epoch 27/32\n",
            "98/98 [==============================] - 54s 531ms/step - loss: 2.1202 - accuracy: 0.4096 - val_loss: 1.8683 - val_accuracy: 0.5356\n",
            "Epoch 28/32\n",
            "98/98 [==============================] - 52s 510ms/step - loss: 2.1074 - accuracy: 0.4199 - val_loss: 1.5833 - val_accuracy: 0.6125\n",
            "Epoch 29/32\n",
            "98/98 [==============================] - 53s 526ms/step - loss: 1.9655 - accuracy: 0.4604 - val_loss: 1.6131 - val_accuracy: 0.6182\n",
            "Epoch 30/32\n",
            "98/98 [==============================] - 51s 504ms/step - loss: 1.8263 - accuracy: 0.5008 - val_loss: 1.4500 - val_accuracy: 0.6695\n",
            "Epoch 31/32\n",
            "98/98 [==============================] - 52s 514ms/step - loss: 1.7514 - accuracy: 0.5249 - val_loss: 1.4364 - val_accuracy: 0.7009\n",
            "Epoch 32/32\n",
            "98/98 [==============================] - 53s 518ms/step - loss: 1.7179 - accuracy: 0.5371 - val_loss: 1.3838 - val_accuracy: 0.6895\n"
          ]
        }
      ],
      "source": [
        "training_history = cnn.fit(x=training_set,validation_data=validation_set,epochs=32)"
      ]
    },
    {
      "cell_type": "markdown",
      "metadata": {
        "id": "19E3mwj1phoW"
      },
      "source": [
        "##Evaluating Model"
      ]
    },
    {
      "cell_type": "code",
      "execution_count": 17,
      "metadata": {
        "colab": {
          "base_uri": "https://localhost:8080/"
        },
        "id": "iY6o3uxjpgl5",
        "outputId": "372a2b25-5cdd-47c0-da77-1e9a5ee84f6c"
      },
      "outputs": [
        {
          "name": "stdout",
          "output_type": "stream",
          "text": [
            "98/98 [==============================] - 30s 292ms/step - loss: 1.2218 - accuracy: 0.6838\n",
            "Training accuracy: 0.6837881207466125\n"
          ]
        }
      ],
      "source": [
        "#Training set Accuracy\n",
        "train_loss, train_acc = cnn.evaluate(training_set)\n",
        "print('Training accuracy:', train_acc)"
      ]
    },
    {
      "cell_type": "code",
      "execution_count": 18,
      "metadata": {
        "colab": {
          "base_uri": "https://localhost:8080/"
        },
        "id": "5SaQgd7bpgwl",
        "outputId": "0e82ce04-bdf8-4b31-bc00-cbb7198df7e7"
      },
      "outputs": [
        {
          "name": "stdout",
          "output_type": "stream",
          "text": [
            "11/11 [==============================] - 4s 93ms/step - loss: 1.3838 - accuracy: 0.6895\n",
            "Validation accuracy: 0.6894586682319641\n"
          ]
        }
      ],
      "source": [
        "#Validation set Accuracy\n",
        "val_loss, val_acc = cnn.evaluate(validation_set)\n",
        "print('Validation accuracy:', val_acc)"
      ]
    },
    {
      "cell_type": "markdown",
      "metadata": {
        "id": "Qxp0xsjVBGec"
      },
      "source": [
        "##Saving Model"
      ]
    },
    {
      "cell_type": "code",
      "execution_count": 19,
      "metadata": {
        "id": "EEUrBzCrxKt_"
      },
      "outputs": [],
      "source": [
        "cnn.save('trained_model.keras')"
      ]
    },
    {
      "cell_type": "code",
      "execution_count": 20,
      "metadata": {
        "colab": {
          "base_uri": "https://localhost:8080/"
        },
        "id": "BM-sILNMBwh1",
        "outputId": "3d1eb8a8-2742-4b1b-f8f3-10c1f0803975"
      },
      "outputs": [
        {
          "data": {
            "text/plain": [
              "{'loss': [7.557575702667236,\n",
              "  3.5818657875061035,\n",
              "  3.578660488128662,\n",
              "  3.572587013244629,\n",
              "  3.5648701190948486,\n",
              "  3.557302951812744,\n",
              "  3.5406854152679443,\n",
              "  3.5347681045532227,\n",
              "  3.5199360847473145,\n",
              "  3.4960601329803467,\n",
              "  3.473942279815674,\n",
              "  3.442016839981079,\n",
              "  3.4047088623046875,\n",
              "  3.3505778312683105,\n",
              "  3.305227041244507,\n",
              "  3.268345832824707,\n",
              "  3.173682689666748,\n",
              "  3.106851100921631,\n",
              "  3.032819986343384,\n",
              "  2.9443342685699463,\n",
              "  2.8814008235931396,\n",
              "  2.7381796836853027,\n",
              "  2.5931477546691895,\n",
              "  2.546917676925659,\n",
              "  2.442047119140625,\n",
              "  2.2409937381744385,\n",
              "  2.120201587677002,\n",
              "  2.107400417327881,\n",
              "  1.965508222579956,\n",
              "  1.8262524604797363,\n",
              "  1.7513900995254517,\n",
              "  1.717895746231079],\n",
              " 'accuracy': [0.026645265519618988,\n",
              "  0.024398073554039,\n",
              "  0.028892455622553825,\n",
              "  0.03210273012518883,\n",
              "  0.03338683769106865,\n",
              "  0.03467094525694847,\n",
              "  0.04494382068514824,\n",
              "  0.04847512021660805,\n",
              "  0.05104333907365799,\n",
              "  0.0638844296336174,\n",
              "  0.06195826828479767,\n",
              "  0.07383627444505692,\n",
              "  0.08635634183883667,\n",
              "  0.10144462436437607,\n",
              "  0.11428571492433548,\n",
              "  0.12295345216989517,\n",
              "  0.15377207100391388,\n",
              "  0.16597110033035278,\n",
              "  0.19069020450115204,\n",
              "  0.1974317878484726,\n",
              "  0.21508827805519104,\n",
              "  0.24494382739067078,\n",
              "  0.28539326786994934,\n",
              "  0.2972712814807892,\n",
              "  0.33772069215774536,\n",
              "  0.38587480783462524,\n",
              "  0.40963080525398254,\n",
              "  0.4199036955833435,\n",
              "  0.46035313606262207,\n",
              "  0.5008025765419006,\n",
              "  0.5248796343803406,\n",
              "  0.5370786786079407],\n",
              " 'val_loss': [3.5834848880767822,\n",
              "  3.5823984146118164,\n",
              "  3.560298442840576,\n",
              "  3.545478582382202,\n",
              "  3.5568416118621826,\n",
              "  3.541963577270508,\n",
              "  3.5453760623931885,\n",
              "  3.493279457092285,\n",
              "  3.5202486515045166,\n",
              "  3.4380881786346436,\n",
              "  3.4728198051452637,\n",
              "  3.421438455581665,\n",
              "  3.344442367553711,\n",
              "  3.223328113555908,\n",
              "  3.089282751083374,\n",
              "  2.969991683959961,\n",
              "  2.893221139907837,\n",
              "  2.7753145694732666,\n",
              "  2.7761857509613037,\n",
              "  2.598423480987549,\n",
              "  2.4773592948913574,\n",
              "  2.287593364715576,\n",
              "  2.138122797012329,\n",
              "  2.0399115085601807,\n",
              "  1.9459547996520996,\n",
              "  1.8288016319274902,\n",
              "  1.8683362007141113,\n",
              "  1.5832500457763672,\n",
              "  1.6131327152252197,\n",
              "  1.4499908685684204,\n",
              "  1.4364423751831055,\n",
              "  1.3837738037109375],\n",
              " 'val_accuracy': [0.028490029275417328,\n",
              "  0.028490029275417328,\n",
              "  0.03418803587555885,\n",
              "  0.03988603875041008,\n",
              "  0.04273504391312599,\n",
              "  0.04273504391312599,\n",
              "  0.03988603875041008,\n",
              "  0.056980058550834656,\n",
              "  0.06267806142568588,\n",
              "  0.08547008782625198,\n",
              "  0.0683760717511177,\n",
              "  0.07692307978868484,\n",
              "  0.11965811997652054,\n",
              "  0.1538461595773697,\n",
              "  0.202279195189476,\n",
              "  0.25071224570274353,\n",
              "  0.25356125831604004,\n",
              "  0.2877492904663086,\n",
              "  0.2877492904663086,\n",
              "  0.3390313386917114,\n",
              "  0.3532763421535492,\n",
              "  0.43589743971824646,\n",
              "  0.4643874764442444,\n",
              "  0.5014244914054871,\n",
              "  0.5384615659713745,\n",
              "  0.5384615659713745,\n",
              "  0.5356125235557556,\n",
              "  0.6125355958938599,\n",
              "  0.6182336211204529,\n",
              "  0.6695156693458557,\n",
              "  0.7008547186851501,\n",
              "  0.6894586682319641]}"
            ]
          },
          "execution_count": 20,
          "metadata": {},
          "output_type": "execute_result"
        }
      ],
      "source": [
        "training_history.history #Return Dictionary of history"
      ]
    },
    {
      "cell_type": "code",
      "execution_count": 21,
      "metadata": {
        "id": "GdF3Ig4ZBU9V"
      },
      "outputs": [],
      "source": [
        "#Recording History in json\n",
        "import json\n",
        "with open('training_hist.json','w') as f:\n",
        "  json.dump(training_history.history,f)"
      ]
    },
    {
      "cell_type": "code",
      "execution_count": 22,
      "metadata": {
        "colab": {
          "base_uri": "https://localhost:8080/"
        },
        "id": "w8PnAYbuCNhu",
        "outputId": "665cd52d-4777-4e7e-9c04-cc7716c5fb62"
      },
      "outputs": [
        {
          "name": "stdout",
          "output_type": "stream",
          "text": [
            "dict_keys(['loss', 'accuracy', 'val_loss', 'val_accuracy'])\n"
          ]
        }
      ],
      "source": [
        "print(training_history.history.keys())"
      ]
    },
    {
      "cell_type": "markdown",
      "metadata": {
        "id": "ZwTEcIavCjZ8"
      },
      "source": [
        "##Calculating Accuracy of Model Achieved on Validation set"
      ]
    },
    {
      "cell_type": "code",
      "execution_count": 23,
      "metadata": {
        "colab": {
          "base_uri": "https://localhost:8080/"
        },
        "id": "Z8Q2t6FXCUzR",
        "outputId": "c4d17e44-87e0-4d1a-adf9-419e81c704ce"
      },
      "outputs": [
        {
          "name": "stdout",
          "output_type": "stream",
          "text": [
            "Validation set Accuracy: 68.94586682319641 %\n"
          ]
        }
      ],
      "source": [
        "print(\"Validation set Accuracy: {} %\".format(training_history.history['val_accuracy'][-1]*100))"
      ]
    },
    {
      "cell_type": "markdown",
      "metadata": {
        "id": "qNIMPXKFEZ5B"
      },
      "source": [
        "#Accuracy Visualization"
      ]
    },
    {
      "cell_type": "markdown",
      "metadata": {
        "id": "Mdg9Zjp2EfSa"
      },
      "source": [
        "##Training Visualization"
      ]
    },
    {
      "cell_type": "code",
      "execution_count": 24,
      "metadata": {
        "id": "fAvJjfBAFNJx"
      },
      "outputs": [],
      "source": [
        "#training_history.history['accuracy']"
      ]
    },
    {
      "cell_type": "code",
      "execution_count": 25,
      "metadata": {
        "colab": {
          "base_uri": "https://localhost:8080/",
          "height": 295
        },
        "id": "gfKdieuJCt3m",
        "outputId": "00c39bea-d59d-48bd-a9bb-f819e1313252"
      },
      "outputs": [
        {
          "data": {
            "image/png": "[encoded data removed]",
            "text/plain": [
              "<Figure size 640x480 with 1 Axes>"
            ]
          },
          "metadata": {},
          "output_type": "display_data"
        }
      ],
      "source": [
        "epochs = [i for i in range(1,33)]\n",
        "plt.plot(epochs,training_history.history['accuracy'],color='red')\n",
        "plt.xlabel('No. of Epochs')\n",
        "plt.ylabel('Traiining Accuracy')\n",
        "plt.title('Visualization of Training Accuracy Result')\n",
        "plt.show()"
      ]
    },
    {
      "cell_type": "markdown",
      "metadata": {
        "id": "FbOcpJL1FvJG"
      },
      "source": [
        "##Validation Accuracy"
      ]
    },
    {
      "cell_type": "code",
      "execution_count": 26,
      "metadata": {
        "colab": {
          "base_uri": "https://localhost:8080/",
          "height": 295
        },
        "id": "ZXyC9WAJEs-B",
        "outputId": "a7d14eba-7481-4b55-c7bb-a0e3821ee77e"
      },
      "outputs": [
        {
          "data": {
            "image/png": "[encoded data removed]",
            "text/plain": [
              "<Figure size 640x480 with 1 Axes>"
            ]
          },
          "metadata": {},
          "output_type": "display_data"
        }
      ],
      "source": [
        "plt.plot(epochs,training_history.history['val_accuracy'],color='blue')\n",
        "plt.xlabel('No. of Epochs')\n",
        "plt.ylabel('Validation Accuracy')\n",
        "plt.title('Visualization of Validation Accuracy Result')\n",
        "plt.show()"
      ]
    }
  ],
  "metadata": {
    "colab": {
      "provenance": []
    },
    "kernelspec": {
      "display_name": "Python 3",
      "name": "python3"
    },
    "language_info": {
      "codemirror_mode": {
        "name": "ipython",
        "version": 3
      },
      "file_extension": ".py",
      "mimetype": "text/x-python",
      "name": "python",
      "nbconvert_exporter": "python",
      "pygments_lexer": "ipython3",
      "version": "3.11.9"
    }
  },
  "nbformat": 4,
  "nbformat_minor": 0
}
